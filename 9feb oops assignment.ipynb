{
 "cells": [
  {
   "cell_type": "markdown",
   "id": "5d31064a-3696-462a-a434-263c1df68359",
   "metadata": {},
   "source": [
    "# <center> 9th Feb OOPS Assignment"
   ]
  },
  {
   "cell_type": "markdown",
   "id": "8d5ece79-af5b-41aa-a6c4-65485eff83cb",
   "metadata": {},
   "source": [
    "Q1:- Create a vehicle class with an init method having instance variables as name_of_vehicle, max_speed and average_of_vehicle."
   ]
  },
  {
   "cell_type": "code",
   "execution_count": 1,
   "id": "ce1fd039-fb69-4203-b3b3-92a8f118cb03",
   "metadata": {},
   "outputs": [],
   "source": [
    "# vehicle class\n",
    "\n",
    "class vehicle:\n",
    "    \n",
    "    def __init__(self, name_of_vehicle, max_speed, average_of_vehicle):\n",
    "        self.name_of_vehicle = name_of_vehicle\n",
    "        self.max_speed = max_speed\n",
    "        self.average_of_vehicle = average_of_vehicle\n",
    "        \n",
    "    \n",
    "        \n",
    "        "
   ]
  },
  {
   "cell_type": "markdown",
   "id": "bfae4b10-5168-4b70-9ae3-4fe9cd105119",
   "metadata": {},
   "source": [
    "Q2:- Create a child class car from the vehicle class created in Q1, which will inherit the vehicle class. Create a method named seating_capacity which takes capacity as an argument and returns the name of the vehicle and its seating capacity."
   ]
  },
  {
   "cell_type": "code",
   "execution_count": 2,
   "id": "a15251c4-ca8c-4e30-a28f-7c04affdb954",
   "metadata": {},
   "outputs": [],
   "source": [
    "class car(vehicle):\n",
    "    def seating_capacity(self, capacity):\n",
    "        self.capacity = capacity\n",
    "        return self.name_of_vehicle, self.capacity"
   ]
  },
  {
   "cell_type": "code",
   "execution_count": 5,
   "id": "bda0f25f-28b7-4164-ac46-89c54adf8830",
   "metadata": {},
   "outputs": [
    {
     "data": {
      "text/plain": [
       "('BMW', 2)"
      ]
     },
     "execution_count": 5,
     "metadata": {},
     "output_type": "execute_result"
    }
   ],
   "source": [
    "car1 = car(\"BMW\",350,8)\n",
    "car1.seating_capacity(2)"
   ]
  },
  {
   "cell_type": "markdown",
   "id": "5806b5b5-118c-4931-b343-82cee69727dd",
   "metadata": {},
   "source": [
    "Q3:- What is multiple inheritance? Write a python code to demonstrate multiple inheritance."
   ]
  },
  {
   "cell_type": "markdown",
   "id": "efe44abf-f2d3-4073-947b-6f94cf3b6164",
   "metadata": {},
   "source": [
    "Ans 3:- Multiple inheritance is a feature in object-oriented programming where a class can inherit from more than one base class. In other words, a child class can inherit attributes and methods from multiple parent classes.\n",
    "\n"
   ]
  },
  {
   "cell_type": "code",
   "execution_count": 8,
   "id": "8c0fc0fa-ca81-4f83-8c2f-d85d8a2218a1",
   "metadata": {},
   "outputs": [],
   "source": [
    "#example code demonstrating multiple inheritance in Python:\n",
    "class Animal:\n",
    "    def __init__(self):\n",
    "        print(\"Animal created\")\n",
    "\n",
    "    def who_am_i(self):\n",
    "        print(\"I am an animal\")\n",
    "\n",
    "    def eat(self):\n",
    "        print(\"I am eating\")\n",
    "\n",
    "\n",
    "class Mammal:\n",
    "    def __init__(self):\n",
    "        print(\"Mammal created\")\n",
    "\n",
    "    def who_am_i(self):\n",
    "        print(\"I am a mammal\")\n",
    "\n",
    "    def nurse(self):\n",
    "        print(\"I am nursing\")\n",
    "\n",
    "\n",
    "class Dog(Animal, Mammal):\n",
    "    def __init__(self):\n",
    "        Animal.__init__(self)\n",
    "        Mammal.__init__(self)\n",
    "        print(\"Dog created\")\n",
    "\n",
    "    def bark(self):\n",
    "        print(\"Woof!\")\n",
    "\n"
   ]
  },
  {
   "cell_type": "code",
   "execution_count": 7,
   "id": "e5dc47d6-1ea2-494e-bac0-f727d9e18848",
   "metadata": {},
   "outputs": [
    {
     "name": "stdout",
     "output_type": "stream",
     "text": [
      "Animal created\n",
      "Mammal created\n",
      "Dog created\n",
      "I am an animal\n",
      "I am eating\n",
      "I am nursing\n",
      "Woof!\n"
     ]
    }
   ],
   "source": [
    "my_dog = Dog()\n",
    "my_dog.who_am_i() # prints \"I am an animal\" because Animal is listed first in the class definition\n",
    "my_dog.eat() # prints \"I am eating\" because it is inherited from Animal\n",
    "my_dog.nurse() # prints \"I am nursing\" because it is inherited from Mammal\n",
    "my_dog.bark() "
   ]
  },
  {
   "cell_type": "markdown",
   "id": "3e631ea9-95bd-4a99-b907-e07b6304c3d2",
   "metadata": {},
   "source": [
    "In this example, we have three classes: Animal, Mammal, and Dog. Animal and Mammal are the parent classes of Dog. Dog inherits attributes and methods from both Animal and Mammal.\n",
    "\n",
    "When Dog is created, both Animal and Mammal constructors are called first. Then, Dog constructor is called. This is because we want to ensure that both parent classes' constructors are called before initializing the Dog object.\n",
    "\n",
    "When my_dog is created, we can call methods from both parent classes, such as who_am_i, eat, and nurse. We can also call bark, which is a method specific to Dog."
   ]
  },
  {
   "cell_type": "markdown",
   "id": "cfe60514-1bae-4be0-b436-f3eb3c50fc3c",
   "metadata": {},
   "source": [
    " "
   ]
  },
  {
   "cell_type": "markdown",
   "id": "d899529a-5e77-4922-92e3-beb4d7d4bc6d",
   "metadata": {},
   "source": [
    " "
   ]
  },
  {
   "cell_type": "markdown",
   "id": "7f1db897-1aca-43ec-8c13-0aeb67a51ca3",
   "metadata": {},
   "source": [
    "Q4:- What are getter and setter in python? Create a class and create a getter and a setter method in this class."
   ]
  },
  {
   "cell_type": "markdown",
   "id": "522b83c5-e74a-42f2-965a-d16f5fc5aeaa",
   "metadata": {},
   "source": [
    "Ans 4:- In Python, getters and setters are methods used to access and modify private attributes of a class. Private attributes are those attributes that should not be accessed or modified directly from outside of the class. Instead, they are accessed or modified through getter and setter methods.\n",
    "\n",
    "Getter method is used to get the value of a private attribute, while setter method is used to set or modify the value of a private attribute."
   ]
  },
  {
   "cell_type": "code",
   "execution_count": 10,
   "id": "f05015ee-87c8-406f-9338-21cfdc61f2cf",
   "metadata": {},
   "outputs": [],
   "source": [
    "# example\n",
    "\n",
    "class Vehicle:\n",
    "    def __init__(self, fuel_level):\n",
    "        self._fuel_level = fuel_level\n",
    "\n",
    "    # Getter method to get the value of the private attribute '_fuel_level'\n",
    "    def get_fuel_level(self):\n",
    "        return self._fuel_level\n",
    "\n",
    "    # Setter method to set the value of the private attribute '_fuel_level'\n",
    "    def set_fuel_level(self, fuel_level):\n",
    "        self._fuel_level = fuel_level\n"
   ]
  },
  {
   "cell_type": "markdown",
   "id": "9815b40e-5352-4f3b-b74b-cf46d6b54c59",
   "metadata": {},
   "source": [
    "In this example, we have a Vehicle class with one private attribute _fuel_level. We have defined a getter method get_fuel_level which simply returns the value of the private attribute, and a setter method set_fuel_level which takes a new value as input and sets the value of _fuel_level to the new value.\n",
    "\n",
    "Now we can create an instance of the Vehicle class and use the getter and setter methods to access and modify its private attribute _fuel_level:"
   ]
  },
  {
   "cell_type": "code",
   "execution_count": 11,
   "id": "28c54aea-71df-4252-a985-fd6a476db652",
   "metadata": {},
   "outputs": [
    {
     "name": "stdout",
     "output_type": "stream",
     "text": [
      "50\n",
      "25\n"
     ]
    }
   ],
   "source": [
    "car = Vehicle(50)\n",
    "print(car.get_fuel_level()) # Output: 50\n",
    "\n",
    "car.set_fuel_level(25)\n",
    "print(car.get_fuel_level()) # Output: 25\n"
   ]
  },
  {
   "cell_type": "markdown",
   "id": "e38cdad4-0006-4fd0-a6dc-5632f3712573",
   "metadata": {},
   "source": [
    "we have created an instance of the Vehicle class with a fuel level of 50. We then use the getter method get_fuel_level to get the value of the private attribute _fuel_level, and print it to the console.\n",
    "\n",
    "Next, we use the setter method set_fuel_level to set a new value of 25 for the private attribute _fuel_level, and then use the getter method get_fuel_level again to verify that the value has been updated."
   ]
  },
  {
   "cell_type": "markdown",
   "id": "f8e5553f-775f-4eff-aa7f-452b56f60c1e",
   "metadata": {},
   "source": [
    " "
   ]
  },
  {
   "cell_type": "markdown",
   "id": "33240fad-ddd3-4a18-8a35-c44c86a5e0a3",
   "metadata": {},
   "source": [
    " "
   ]
  },
  {
   "cell_type": "markdown",
   "id": "fff29d5e-cee3-4ff2-80fd-3f3ac1278a4e",
   "metadata": {},
   "source": [
    "Q5:- What is method overriding in python? Write a python code to demonstrate method overriding."
   ]
  },
  {
   "cell_type": "markdown",
   "id": "2fcb5b86-e603-4234-82f5-fdb965ac5b78",
   "metadata": {},
   "source": [
    "Ans 5:- In Python, method overriding is the process of redefining a method in a subclass that already exists in the parent class. This allows the subclass to modify the behavior of the method without changing its signature."
   ]
  },
  {
   "cell_type": "code",
   "execution_count": 12,
   "id": "e0174dd0-ebf3-4a71-9e80-4fe248d3135d",
   "metadata": {},
   "outputs": [],
   "source": [
    "# example\n",
    "class Animal:\n",
    "    def make_sound(self):\n",
    "        print(\"The animal makes a sound.\")\n",
    "\n",
    "class Cat(Animal):\n",
    "    def make_sound(self):\n",
    "        print(\"Meow!\")\n",
    "\n",
    "class Dog(Animal):\n",
    "    def make_sound(self):\n",
    "        print(\"Woof!\")\n",
    "\n",
    "\n"
   ]
  },
  {
   "cell_type": "code",
   "execution_count": 13,
   "id": "9f3b1bc9-12c4-439d-94c0-2cd41637329b",
   "metadata": {},
   "outputs": [
    {
     "name": "stdout",
     "output_type": "stream",
     "text": [
      "The animal makes a sound.\n",
      "Meow!\n",
      "Woof!\n"
     ]
    }
   ],
   "source": [
    "# Create instances of the classes\n",
    "animal = Animal()\n",
    "cat = Cat()\n",
    "dog = Dog()\n",
    "\n",
    "# Call the make_sound method for each instance\n",
    "animal.make_sound() # Output: The animal makes a sound.\n",
    "cat.make_sound() # Output: Meow!\n",
    "dog.make_sound() # Output: Woof!"
   ]
  },
  {
   "cell_type": "markdown",
   "id": "219b570f-72fd-4e1c-a54f-1ad2e80cb8f6",
   "metadata": {},
   "source": [
    "In this example, we have a parent class Animal with a method make_sound that simply prints \"The animal makes a sound.\" We also have two subclasses, Cat and Dog, that inherit from the Animal class.\n",
    "\n",
    "Both the Cat and Dog classes have their own implementation of the make_sound method, which overrides the implementation in the Animal class. When we create instances of the classes and call the make_sound method, the appropriate implementation for each subclass is called.\n",
    "\n",
    "This demonstrates how method overriding allows subclasses to modify the behavior of methods inherited from the parent class."
   ]
  },
  {
   "cell_type": "markdown",
   "id": "7cd84310-648c-40c9-92e6-e90e54723506",
   "metadata": {},
   "source": [
    "# <center> End of Assignment"
   ]
  },
  {
   "cell_type": "code",
   "execution_count": null,
   "id": "1a960b39-a152-4f8c-baca-06e9e8c1dbfa",
   "metadata": {},
   "outputs": [],
   "source": []
  }
 ],
 "metadata": {
  "kernelspec": {
   "display_name": "Python 3 (ipykernel)",
   "language": "python",
   "name": "python3"
  },
  "language_info": {
   "codemirror_mode": {
    "name": "ipython",
    "version": 3
   },
   "file_extension": ".py",
   "mimetype": "text/x-python",
   "name": "python",
   "nbconvert_exporter": "python",
   "pygments_lexer": "ipython3",
   "version": "3.10.8"
  }
 },
 "nbformat": 4,
 "nbformat_minor": 5
}
