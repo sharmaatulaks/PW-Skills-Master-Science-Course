{
 "cells": [
  {
   "cell_type": "markdown",
   "id": "cd77f07f-fdde-4f5e-b1fa-7637f551830e",
   "metadata": {},
   "source": [
    "<center> Assignment Task 1 Python"
   ]
  },
  {
   "cell_type": "markdown",
   "id": "9d445695-2671-4ae3-b7c8-dfcecc059ad5",
   "metadata": {},
   "source": [
    "Q1. Create a function which will take a list as an argument and return the product of all the numbers after creating a flat list.\n",
    "\n",
    "Use the below-given list as an argument for your function.\n",
    "\n",
    "list1 = [1,2,3,4, [44,55,66, True], False, (34,56,78,89,34), {1,2,3,3,2,1}, {1:34, \"key2\": [55, 67, 78, 89], 4: (45, 22, 61, 34)}, [56, 'data science'], 'Machine Learning']"
   ]
  },
  {
   "cell_type": "code",
   "execution_count": 93,
   "id": "16be69b0-cc8b-4247-a358-4c77ae91107d",
   "metadata": {},
   "outputs": [],
   "source": [
    "def product_of_numbers(lst):\n",
    "    flat_list = []\n",
    "    dict_list={}\n",
    "    def flatten(lst):\n",
    "        for item in lst:\n",
    "            if type(item) == list or type(item) == tuple or type(item) == set: #or type(item) == dict:\n",
    "                flatten(item)\n",
    "            elif type(item)==dict:\n",
    "                dict_list=item\n",
    "                #print(dict_list.values())\n",
    "                dict_list=list(dict_list.values())\n",
    "                flatten(dict_list)\n",
    "            elif type(item) == int or type(item) == float:\n",
    "                flat_list.append(item)\n",
    "    flatten(lst)\n",
    "    product = 1\n",
    "    for num in flat_list:\n",
    "        product *= num\n",
    "    #print(flat_list)\n",
    "    return product\n",
    "    \n"
   ]
  },
  {
   "cell_type": "code",
   "execution_count": 94,
   "id": "342a924c-78e3-4244-b493-20e2d537c50c",
   "metadata": {},
   "outputs": [
    {
     "name": "stdout",
     "output_type": "stream",
     "text": [
      "1033677959746771369708460310528000\n"
     ]
    }
   ],
   "source": [
    "list1 = [1,2,3,4, [44,55,66, True], False, (34,56,78,89,34), {1,2,3,3,2,1}, {1:34, \"key2\": [55, 67, 78, 89], 4: (45, 22, 61, 34)}, [56, 'data science'], 'Machine Learning']\n",
    "print(product_of_numbers(list1))"
   ]
  },
  {
   "cell_type": "markdown",
   "id": "ed742df2-3585-4665-8bbc-edb8f14e6595",
   "metadata": {},
   "source": [
    " "
   ]
  },
  {
   "cell_type": "markdown",
   "id": "b77ba220-e25f-4203-b2f1-c4a92e80785f",
   "metadata": {},
   "source": [
    "Q2. Write a python program for encrypting a message sent to you by your friend. The logic of encryption should be such that, for a the output should be z. For b, the output should be y. For c, the output should be x respectively. Also, the whitespace should be replaced with a dollar sign. Keep the punctuation marks unchanged.\n",
    "\n",
    "Input Sentence: I want to become a Data Scientist.\n",
    "Encrypt the above input sentence using the program you just created."
   ]
  },
  {
   "cell_type": "code",
   "execution_count": 104,
   "id": "1e43db5f-fdad-4834-b2d1-5468a23d660f",
   "metadata": {},
   "outputs": [],
   "source": [
    "def encrypt(message):\n",
    "    # Map each letter to its encrypted form\n",
    "    mapping = {'a': 'z', 'b': 'y', 'c': 'x', 'd': 'w', 'e': 'v', 'f': 'u', 'g': 't', 'h': 's', 'i': 'r', 'j': 'q',\n",
    "               'k': 'p', 'l': 'o', 'm': 'n', 'n': 'm', 'o': 'l', 'p': 'k', 'q': 'j', 'r': 'i', 's': 'h', 't': 'g',\n",
    "               'u': 'f', 'v': 'e', 'w': 'd', 'x': 'c', 'y': 'b', 'z': 'a', ' ': '$'}\n",
    "\n",
    "    encrypted_message = \"\"\n",
    "    for char in message:\n",
    "        if char in mapping:\n",
    "            encrypted_message += mapping[char]\n",
    "        else:\n",
    "            encrypted_message += char\n",
    "\n",
    "    return encrypted_message\n"
   ]
  },
  {
   "cell_type": "code",
   "execution_count": 105,
   "id": "fc1e7d9b-9858-4b02-b6ce-5810ab694a4d",
   "metadata": {},
   "outputs": [
    {
     "name": "stdout",
     "output_type": "stream",
     "text": [
      "Encrypted message: I$dzmg$gl$yvxlnv$z$Dzgz$Sxrvmgrhg.\n"
     ]
    }
   ],
   "source": [
    "input_sentence = \"I want to become a Data Scientist.\"\n",
    "encrypted_message = encrypt(input_sentence)\n",
    "print(\"Encrypted message:\", encrypted_message)"
   ]
  },
  {
   "cell_type": "markdown",
   "id": "c04d85e8-eb39-412d-8fd9-709628c5d013",
   "metadata": {},
   "source": [
    "<Center> end of Assignment"
   ]
  },
  {
   "cell_type": "code",
   "execution_count": null,
   "id": "02d3fab4-9e56-49ca-9397-a1b4fcb13878",
   "metadata": {},
   "outputs": [],
   "source": []
  }
 ],
 "metadata": {
  "kernelspec": {
   "display_name": "Python 3 (ipykernel)",
   "language": "python",
   "name": "python3"
  },
  "language_info": {
   "codemirror_mode": {
    "name": "ipython",
    "version": 3
   },
   "file_extension": ".py",
   "mimetype": "text/x-python",
   "name": "python",
   "nbconvert_exporter": "python",
   "pygments_lexer": "ipython3",
   "version": "3.10.8"
  }
 },
 "nbformat": 4,
 "nbformat_minor": 5
}
