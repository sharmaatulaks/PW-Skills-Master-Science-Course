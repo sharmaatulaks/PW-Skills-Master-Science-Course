{
 "cells": [
  {
   "cell_type": "markdown",
   "id": "6c1fa6d7-b517-43cf-8fff-172046f7de2a",
   "metadata": {},
   "source": [
    "# <Center> Assignment Of OOPS"
   ]
  },
  {
   "cell_type": "markdown",
   "id": "a2e02b8b-8042-4c88-bf90-cf8dfb278c5a",
   "metadata": {},
   "source": [
    "Q1. Explain Class and Object with respect to Object-Oriented Programming. Give a suitable example."
   ]
  },
  {
   "cell_type": "markdown",
   "id": "1ca195ff-1617-4ada-9324-310be4d3b7e9",
   "metadata": {},
   "source": [
    "Ans 1:- A class is a blueprint or a template for creating objects that share common attributes and behaviors. It's a way to encapsulate related data and functions into a single unit.\n",
    "\n",
    "Object:- An object is an instance of a class. It's a specific realization or occurrence of a class, with its own set of attributes and behaviors.\n",
    "\n",
    "Example:-\n",
    "\n",
    "class Dog:\n",
    "    def __init__(self, name, breed):\n",
    "    \n",
    "        self.name = name\n",
    "        self.breed = breed\n",
    "\n",
    "    def bark(self):\n",
    "        print(\"Woof! My name is\", self.name)\n",
    "\n",
    "dog1 = Dog(\"Rex\", \"German Shepherd\")\n",
    "dog1.bark()\n",
    "\n",
    "In this example, we define a class called Dog. The class has two attributes, name and breed, which are initialized when we create an instance of the class. The __init__ method is a special method that is called when a new instance of the class is created. The bark method is a function that takes no arguments and simply prints a message using the name attribute of the Dog instance. Finally, we create a Dog instance called dog1 with the name \"Rex\" and the breed \"German Shepherd\", and then call the bark method on that instance.\n",
    "\n",
    "So, a class in Python is a way to define a new type of object with its own attributes and behaviors, and we can create multiple instances of that class to represent different objects of that type.\n",
    "\n"
   ]
  },
  {
   "cell_type": "markdown",
   "id": "ddbad50e-3190-487f-bdcc-8c79f357bdba",
   "metadata": {},
   "source": [
    "Q2:- Name the four pillars of OOPs?\n",
    "\n",
    "Ans 2:- \n",
    "\n",
    "1. Abstraction\n",
    "\n",
    "2. Encapsulation\n",
    "\n",
    "3. Inheritance \n",
    "\n",
    "4. Polymorphism"
   ]
  },
  {
   "cell_type": "markdown",
   "id": "d15f1e67-0add-42a0-99ae-497917bd2d5e",
   "metadata": {},
   "source": [
    "Q3 :- Explain why the init() function is used. Give a suitable example."
   ]
  },
  {
   "cell_type": "markdown",
   "id": "cb820073-18c8-4339-a4ed-d1137d1702e5",
   "metadata": {},
   "source": [
    "Ans 3:- The init() function is used in object-oriented programming to initialize the attributes of an object at the time of its creation. the __init__ method is a special method that is called when an instance of a class is created. It is used to initialize the attributes of the object with some initial values. The init() method is also known as a constructor.\n",
    "\n",
    "The __init__ method takes in the self parameter, which refers to the object being created, and any other parameters that we want to use to initialize the attributes of the object. Inside the __init__ method"
   ]
  },
  {
   "cell_type": "code",
   "execution_count": 13,
   "id": "6eccc2b7-f8d8-4291-a424-4acfa038a6bc",
   "metadata": {},
   "outputs": [],
   "source": [
    "class Car:\n",
    "    def __init__(self, Company, model, year,reading):\n",
    "        self.Company = Company\n",
    "        self.model = model\n",
    "        self.year = year\n",
    "        self.odometer_reading = reading\n",
    "\n",
    "    def get_description(self):\n",
    "        return f\"{self.year} {self.Company} {self.model},{self.odometer_reading}\"\n",
    "\n",
    "    def read_odometer(self):\n",
    "        return f\"This car has {self.odometer_reading} miles on it.\"\n",
    "\n"
   ]
  },
  {
   "cell_type": "code",
   "execution_count": 18,
   "id": "273caec8-b67b-4cc3-a390-952b5e7ee8bf",
   "metadata": {},
   "outputs": [
    {
     "name": "stdout",
     "output_type": "stream",
     "text": [
      "2021 Toyota Camry,15000\n",
      "This car has 15000 miles on it.\n",
      "Ciaz\n"
     ]
    }
   ],
   "source": [
    "my_car = Car(\"Toyota\", \"Camry\", 2021,15000)\n",
    "print(my_car.get_description())\n",
    "print(my_car.read_odometer())\n",
    "\n",
    "my_car1= Car(\"Maruti\",\"Ciaz\",2016,6000)\n",
    "print(my_car1.model)"
   ]
  },
  {
   "cell_type": "markdown",
   "id": "c3b08715-9a58-432d-92a9-b70d76b7a41b",
   "metadata": {},
   "source": [
    " "
   ]
  },
  {
   "cell_type": "markdown",
   "id": "6930d65e-aaf8-4052-a2ac-b3f6806f1afb",
   "metadata": {},
   "source": [
    " "
   ]
  },
  {
   "cell_type": "markdown",
   "id": "1a154ff7-02f8-4027-abae-63940d25f927",
   "metadata": {},
   "source": [
    "Q4:- Why self is used in OOPs?\n",
    "\n",
    "Ans 4:- In object-oriented programming, self is a special variable that refers to the current object instance. It is used to access the attributes and methods of the object within its own class.\n",
    "\n",
    "When a method is called on an object, Python automatically passes the object itself as the first argument to the method, and this is what the self parameter represents. By convention, the first parameter of a method is always self, and it is always used to refer to the current object.\n"
   ]
  },
  {
   "cell_type": "markdown",
   "id": "dc13c351-f9b8-49e7-b429-b46f04392301",
   "metadata": {},
   "source": [
    " "
   ]
  },
  {
   "cell_type": "markdown",
   "id": "4937968b-1941-4e06-b356-7195163b1876",
   "metadata": {},
   "source": [
    " "
   ]
  },
  {
   "cell_type": "markdown",
   "id": "c2c672b6-9137-466e-a6f6-4645102892fd",
   "metadata": {},
   "source": [
    "Q5:-What is inheritance? Give an example for each type of inheritance.\n",
    "\n",
    "Ans 5:- Inheritance is a way of creating new classes based on existing classes, where the new class can inherit properties and methods from the existing class. The existing class is called the parent or superclass, and the new class is called the child or subclass.\n",
    "\n",
    "1. Multilevel Inheritance:\n",
    "In multilevel inheritance, a class is derived from another derived class. In other words, a subclass is derived from a superclass, and then another subclass is derived from the first subclass."
   ]
  },
  {
   "cell_type": "code",
   "execution_count": 2,
   "id": "a8157dab-a71a-4877-b470-06987662b36a",
   "metadata": {},
   "outputs": [],
   "source": [
    "class Animal:\n",
    "    def __init__(self, name):\n",
    "        self.name = name\n",
    "\n",
    "    def speak(self):\n",
    "        print(f\"{self.name} is speaking\")\n"
   ]
  },
  {
   "cell_type": "code",
   "execution_count": 3,
   "id": "eb61208f-6ad0-4176-b44f-0c8031253741",
   "metadata": {},
   "outputs": [],
   "source": [
    "class Dog(Animal):\n",
    "    def __init__(self, name, breed):\n",
    "        super().__init__(name)\n",
    "        self.breed = breed\n",
    "\n",
    "    def bark(self):\n",
    "        print(f\"{self.name} is barking\")"
   ]
  },
  {
   "cell_type": "code",
   "execution_count": 4,
   "id": "a6f979b9-b88f-4a0e-95ee-e16877e621dd",
   "metadata": {},
   "outputs": [],
   "source": [
    "class Labrador(Dog):\n",
    "    def __init__(self, name, breed, color):\n",
    "        super().__init__(name, breed)\n",
    "        self.color = color\n",
    "\n",
    "    def fetch(self):\n",
    "        print(f\"{self.name} is fetching\")"
   ]
  },
  {
   "cell_type": "code",
   "execution_count": 5,
   "id": "32c3d484-f5be-480f-a21c-705fccb8ce59",
   "metadata": {},
   "outputs": [
    {
     "name": "stdout",
     "output_type": "stream",
     "text": [
      "Max is speaking\n",
      "Max is barking\n",
      "Max is fetching\n"
     ]
    }
   ],
   "source": [
    "labrador = Labrador(\"Max\", \"Labrador Retriever\", \"Golden\")\n",
    "labrador.speak() # output: Max is speaking\n",
    "labrador.bark() # output: Max is barking\n",
    "labrador.fetch() # output: Max is fetching"
   ]
  },
  {
   "cell_type": "markdown",
   "id": "ced3f67d-b443-47cb-b4c7-3602c60b715c",
   "metadata": {},
   "source": [
    "In this example, Animal is the superclass, Dog is a subclass derived from Animal, and Labrador is a subclass derived from Dog. Dog inherits the speak() method from Animal, and Labrador inherits both the speak() method from Animal and the bark() method from Dog."
   ]
  },
  {
   "cell_type": "markdown",
   "id": "474069d1-b0ce-4524-a906-666fc773e95d",
   "metadata": {},
   "source": [
    "2. Multiple Inheritance:\n",
    "In multiple inheritance, a class is derived from more than one base class. In other words, a subclass inherits properties and methods from multiple parent classes."
   ]
  },
  {
   "cell_type": "code",
   "execution_count": 6,
   "id": "f94b8334-379f-42a1-ae23-dacec747d143",
   "metadata": {},
   "outputs": [],
   "source": [
    "class Car:\n",
    "    def __init__(self, make, model, year):\n",
    "        self.make = make\n",
    "        self.model = model\n",
    "        self.year = year\n",
    "\n",
    "    def drive(self):\n",
    "        print(\"The car is driving\")\n",
    "\n",
    "\n"
   ]
  },
  {
   "cell_type": "code",
   "execution_count": 7,
   "id": "52732405-f3da-49bd-b69d-dac94e24f0de",
   "metadata": {},
   "outputs": [],
   "source": [
    "class ElectricVehicle:\n",
    "    def __init__(self, battery_capacity, range):\n",
    "        self.battery_capacity = battery_capacity\n",
    "        self.range = range\n",
    "\n",
    "    def charge(self):\n",
    "        print(\"The vehicle is charging\")\n"
   ]
  },
  {
   "cell_type": "code",
   "execution_count": 8,
   "id": "7765329f-8e57-4004-8694-874ba7430368",
   "metadata": {},
   "outputs": [],
   "source": [
    "class ElectricCar(Car, ElectricVehicle):\n",
    "    def __init__(self, make, model, year, battery_capacity, range):\n",
    "        Car.__init__(self, make, model, year)\n",
    "        ElectricVehicle.__init__(self, battery_capacity, range)\n",
    "\n",
    "    def drive(self):\n",
    "        print(\"The electric car is driving\")\n",
    "\n",
    "    def charge(self):\n",
    "        print(\"The electric car is charging\")"
   ]
  },
  {
   "cell_type": "code",
   "execution_count": 9,
   "id": "d68d605e-6bcd-4457-944e-ae356824c1f5",
   "metadata": {},
   "outputs": [
    {
     "name": "stdout",
     "output_type": "stream",
     "text": [
      "The electric car is driving\n",
      "The electric car is charging\n"
     ]
    }
   ],
   "source": [
    "\n",
    "\n",
    "electric_car = ElectricCar(\"Tesla\", \"Model S\", 2022, \"100 kWh\", \"405 miles\")\n",
    "electric_car.drive() # output: The electric car is driving\n",
    "electric_car.charge() # output: The electric car is charging"
   ]
  },
  {
   "cell_type": "markdown",
   "id": "08f78097-bca9-4f6d-8225-a4959a566a90",
   "metadata": {},
   "source": [
    "<Center>End of Assignment"
   ]
  },
  {
   "cell_type": "code",
   "execution_count": null,
   "id": "56dce178-ba34-49e9-b980-6806e070b772",
   "metadata": {},
   "outputs": [],
   "source": []
  }
 ],
 "metadata": {
  "kernelspec": {
   "display_name": "Python 3 (ipykernel)",
   "language": "python",
   "name": "python3"
  },
  "language_info": {
   "codemirror_mode": {
    "name": "ipython",
    "version": 3
   },
   "file_extension": ".py",
   "mimetype": "text/x-python",
   "name": "python",
   "nbconvert_exporter": "python",
   "pygments_lexer": "ipython3",
   "version": "3.10.8"
  }
 },
 "nbformat": 4,
 "nbformat_minor": 5
}
