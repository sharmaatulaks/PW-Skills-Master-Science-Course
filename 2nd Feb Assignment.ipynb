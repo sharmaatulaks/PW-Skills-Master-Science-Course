{
 "cells": [
  {
   "cell_type": "markdown",
   "id": "41f501b0-1b8c-4084-912d-33a59b135b34",
   "metadata": {},
   "source": [
    "# <Center>Assignment 2nd Feb\n"
   ]
  },
  {
   "cell_type": "markdown",
   "id": "002ad7bb-c8f6-4bc9-854e-8d4c93fc4130",
   "metadata": {},
   "source": [
    "Q1:- What are the Characterstics of the Tuples? is tuple immutable?\n",
    "\n",
    "Ans 1:- Tuples have the given characteristics:\n",
    "\n",
    "* They are indexed\n",
    "* Tuples are ordered\n",
    "* These are immutable\n",
    "* They can contain duplicate items\n",
    "\n",
    "yes tuples are immutable"
   ]
  },
  {
   "cell_type": "markdown",
   "id": "4a268f10-b930-41e3-91ca-af7f77531ab8",
   "metadata": {},
   "source": [
    "Q2:- What are the two tuple methods in python? Give an example of each method. Give a reason why tuples have only two in-built functions as compared to Lists?\n",
    "\n",
    "Ans 2:- Count and index are the two tuple method"
   ]
  },
  {
   "cell_type": "code",
   "execution_count": 15,
   "id": "f4193121-9a7d-441b-b354-185c0d70230d",
   "metadata": {},
   "outputs": [
    {
     "name": "stdout",
     "output_type": "stream",
     "text": [
      "1\n",
      "0\n"
     ]
    }
   ],
   "source": [
    "# example of each method\n",
    "t=(1,2,3,4)\n",
    "print(t.count(1))\n",
    "print(t.index(1))"
   ]
  },
  {
   "cell_type": "markdown",
   "id": "a7df1683-f3d7-42df-8d0e-c434d71b265b",
   "metadata": {},
   "source": [
    "Tuples are immutable, iteam of the tuples cannot be change ones assigned therefore they have only two methods compared to list\n"
   ]
  },
  {
   "cell_type": "markdown",
   "id": "006088a0-9a43-421d-9b97-1799d300201f",
   "metadata": {},
   "source": [
    "Q3:- Which collection datatypes in python do not allow duplicate iteams?Write a code to remove duplicate from the givemn list?\n",
    "\n"
   ]
  },
  {
   "cell_type": "code",
   "execution_count": 14,
   "id": "d5f4d82a-fb60-4a0a-9c47-164069c95ef4",
   "metadata": {},
   "outputs": [
    {
     "name": "stdout",
     "output_type": "stream",
     "text": [
      "[1, 2, 3, 4]\n"
     ]
    }
   ],
   "source": [
    "# Ans 3:- Sets datatype in python that doesnt allow duplicate iteams\n",
    "\n",
    "L1=[1,1,1,2,1,3,1,4,2,1,2,2,2,3,2,4,3,1,3,2,3,3,3,4,4,1,4,2,4,3,4,4]\n",
    "s=set(L1)\n",
    "L1=list(s)\n",
    "print(L1)"
   ]
  },
  {
   "cell_type": "markdown",
   "id": "dcfc52cd-6a0e-4157-a2ae-98e2080863bd",
   "metadata": {},
   "source": [
    " "
   ]
  },
  {
   "cell_type": "markdown",
   "id": "64677542-e7b8-4a49-a7f1-aac4940b20d5",
   "metadata": {},
   "source": [
    "Q4:- explain the diffrence between the union() and update() method in set. Give and example of each method?"
   ]
  },
  {
   "cell_type": "markdown",
   "id": "98044a56-575a-4496-9258-d987b1ba29bb",
   "metadata": {},
   "source": [
    "# Ans 4:- \n",
    "\n",
    "update() adds all missing elements to the set inplace,that why it is called whereas set. whereas, union() creates a new set added with all the unique elements. it doenot change the present set.\n",
    "\n"
   ]
  },
  {
   "cell_type": "code",
   "execution_count": 33,
   "id": "ae2ddd1f-1ee4-4c5f-86c3-ab485193de70",
   "metadata": {},
   "outputs": [
    {
     "name": "stdout",
     "output_type": "stream",
     "text": [
      "{1, 2, 3, 4, 10}\n"
     ]
    }
   ],
   "source": [
    "# example of Update \n",
    "type(s)\n",
    "s2={1,3,4,10}\n",
    "s.update(s2)\n",
    "print(s)\n",
    "# changes made into the set s inplace"
   ]
  },
  {
   "cell_type": "code",
   "execution_count": 34,
   "id": "8b4f30cb-53b3-4a3c-9caf-e36025cbaf28",
   "metadata": {},
   "outputs": [
    {
     "name": "stdout",
     "output_type": "stream",
     "text": [
      "{1, 2, 3, 4, 10}\n",
      "{1, 2, 3, 4, 8, 9, 10}\n"
     ]
    }
   ],
   "source": [
    "# Example of Union\n",
    "s3={1,8,9}\n",
    "s4=s.union(s3)\n",
    "print(s)\n",
    "print(s4)\n"
   ]
  },
  {
   "cell_type": "markdown",
   "id": "3397f83c-e91e-49b0-a9ca-8e0d5ce210e3",
   "metadata": {},
   "source": [
    "net set is generated and save in set4 no changes were made in set s by union method."
   ]
  },
  {
   "cell_type": "markdown",
   "id": "5de70c8d-259e-45f3-9299-c665cadf2da3",
   "metadata": {},
   "source": [
    " "
   ]
  },
  {
   "cell_type": "markdown",
   "id": "9596c6f4-7af5-420e-b5b6-60f22762e55e",
   "metadata": {},
   "source": [
    " "
   ]
  },
  {
   "cell_type": "markdown",
   "id": "e3033c13-71da-439f-90f9-64bafaddac78",
   "metadata": {},
   "source": [
    "Q5:- What is a dictonary? Give and example. Also, state whether a dictionary is ordered or unordered?\n"
   ]
  },
  {
   "cell_type": "markdown",
   "id": "03da3650-7415-4ff5-8666-0dcbf0d6d68b",
   "metadata": {},
   "source": [
    "Ans 5:- Dictionaries are used to store data values in key:value pairs. A dictionary is a collection which is ordered, changeable and do not allow duplicates."
   ]
  },
  {
   "cell_type": "code",
   "execution_count": null,
   "id": "f896aedf-d44c-4368-99b3-b592e4a63fce",
   "metadata": {},
   "outputs": [],
   "source": [
    "#example"
   ]
  },
  {
   "cell_type": "code",
   "execution_count": 37,
   "id": "6b17bcce-06e6-4578-ad5f-2cb1fe1621aa",
   "metadata": {},
   "outputs": [
    {
     "name": "stdout",
     "output_type": "stream",
     "text": [
      "{'Name': 'Vidvaan', 'Course': 'Data Science', 'Start_Date': '23-09-2022'}\n"
     ]
    }
   ],
   "source": [
    "disct1 = {\n",
    "  \"Name\": \"Vidvaan\",\n",
    "  \"Course\": \"Data Science\",\n",
    "  \"Start_Date\": \"23-09-2022\"\n",
    "}\n",
    "print(disct1)"
   ]
  },
  {
   "cell_type": "markdown",
   "id": "1f7ee4ec-f615-48c5-8921-7ad4b50b0f6a",
   "metadata": {},
   "source": [
    " "
   ]
  },
  {
   "cell_type": "markdown",
   "id": "dfb6e659-70d9-4a72-bde9-cbf4a2437735",
   "metadata": {},
   "source": [
    " "
   ]
  },
  {
   "cell_type": "markdown",
   "id": "84f03df4-cd78-4099-8526-24157f002fb6",
   "metadata": {},
   "source": [
    "Q6:- Can we create a nested dictionary? if so, please give an example by creating a simple one level nested dictionary?"
   ]
  },
  {
   "cell_type": "markdown",
   "id": "e56c747d-c053-4db8-bb94-e7e623eacb04",
   "metadata": {},
   "source": [
    "Ans6:- Yes, we can create nested dictionary."
   ]
  },
  {
   "cell_type": "code",
   "execution_count": 50,
   "id": "5795466e-a63d-4635-9a00-cab3978fcbe2",
   "metadata": {},
   "outputs": [
    {
     "name": "stdout",
     "output_type": "stream",
     "text": [
      "{'Student1': {'Name': 'Vidvaan', 'Course': 'Data Science', 'Start_Date': '23-09-2022'}, 'Student2': {'Name': 'Atul', 'Course': 'Data Science', 'Start_Date': '29-09-2022'}}\n"
     ]
    }
   ],
   "source": [
    "#example od nested Dictionary:- \n",
    "disct2 = {\"Student1\":\n",
    "  {\"Name\": \"Vidvaan\",\n",
    "  \"Course\": \"Data Science\",\n",
    "  \"Start_Date\": \"23-09-2022\"},\n",
    "         \"Student2\": {\"Name\": \"Atul\",\n",
    "  \"Course\": \"Data Science\",\n",
    "  \"Start_Date\": \"29-09-2022\"}}\n",
    "print(disct2)\n"
   ]
  },
  {
   "cell_type": "markdown",
   "id": "ae3aa98f-c46f-4f06-a8dd-6711c94a88a8",
   "metadata": {},
   "source": [
    " "
   ]
  },
  {
   "cell_type": "markdown",
   "id": "4b06145b-0835-4986-bdf6-635e70845c9f",
   "metadata": {},
   "source": [
    " "
   ]
  },
  {
   "cell_type": "markdown",
   "id": "548f2b86-c1d9-478e-b8e5-895bdfad1cab",
   "metadata": {},
   "source": [
    " "
   ]
  },
  {
   "cell_type": "markdown",
   "id": "0ef99c56-df90-4334-a165-808ce0ceb953",
   "metadata": {},
   "source": [
    "Q7:- using setdafault() method, create key named topics in the given dictionary and also add the value of the Key as this list['Python','Machine Learning','Deep Learning']?"
   ]
  },
  {
   "cell_type": "code",
   "execution_count": 58,
   "id": "546d7854-94e4-443f-bd78-18c0e96a2e5c",
   "metadata": {},
   "outputs": [
    {
     "data": {
      "text/plain": [
       "{'Learning': ['Python', 'Machine Learning', 'Deep Learning']}"
      ]
     },
     "execution_count": 58,
     "metadata": {},
     "output_type": "execute_result"
    }
   ],
   "source": [
    "l=['Python','Machine Learning','Deep Learning']\n",
    "dict5={}\n",
    "dict5.setdefault(\"Learning\",l)\n",
    "dict5"
   ]
  },
  {
   "cell_type": "markdown",
   "id": "6c51a127-d484-46ed-81b3-009d92822b12",
   "metadata": {},
   "source": [
    " "
   ]
  },
  {
   "cell_type": "markdown",
   "id": "27de5161-5f05-4d0e-af76-120bcf6be4e7",
   "metadata": {},
   "source": [
    " "
   ]
  },
  {
   "cell_type": "markdown",
   "id": "8cc6c03e-dd9d-4faa-90c5-d15ee077a4ff",
   "metadata": {},
   "source": [
    " "
   ]
  },
  {
   "cell_type": "markdown",
   "id": "531dd287-bdf1-425b-a82e-9ad72770242a",
   "metadata": {},
   "source": [
    "Q8:- What are the three view objects in dictionaries? Use the three in-built methods in python to display these three views objects for the given dictionary?"
   ]
  },
  {
   "cell_type": "markdown",
   "id": "dde8dfb8-8b9d-4630-85be-2b2c571a8631",
   "metadata": {},
   "source": [
    "Ans 8:- The three view objects of dictinaries are Key, value and iteams"
   ]
  },
  {
   "cell_type": "code",
   "execution_count": 83,
   "id": "e5571497-debf-469b-a28c-2ca2ebccfdde",
   "metadata": {},
   "outputs": [
    {
     "name": "stdout",
     "output_type": "stream",
     "text": [
      "It showing all the Keys of the dist1 :- dict_keys(['Sport', 'Teams'])\n",
      "\n",
      "It showing all the Values of the dist1 :- dict_values(['Cricket', ['India', 'Australia', 'England', 'South Africa', 'Sri Lanka', 'New Zealand']])\n",
      "\n",
      "It showing all the Iteams of the dist1 :- dict_items([('Sport', 'Cricket'), ('Teams', ['India', 'Australia', 'England', 'South Africa', 'Sri Lanka', 'New Zealand'])])\n",
      "\n"
     ]
    }
   ],
   "source": [
    "# Keys\n",
    "\n",
    "dist1 = {\"Sport\":\"Cricket\",'Teams':[\"India\", \"Australia\",\"England\",\"South Africa\",\"Sri Lanka\",\"New Zealand\"]}\n",
    "key=dist1.keys()\n",
    "Val=dist1.values()\n",
    "item=dist1.items()\n",
    "\n",
    "print(f\"It showing all the Keys of the dist1 :- {key}\\n\")\n",
    "print(f\"It showing all the Values of the dist1 :- {Val}\\n\")\n",
    "print(f\"It showing all the Iteams of the dist1 :- {item}\\n\")\n"
   ]
  },
  {
   "cell_type": "markdown",
   "id": "9eb0394e-4948-44f3-a6bf-6793832157a2",
   "metadata": {},
   "source": [
    "## <Center> end of Assignment"
   ]
  }
 ],
 "metadata": {
  "kernelspec": {
   "display_name": "Python 3 (ipykernel)",
   "language": "python",
   "name": "python3"
  },
  "language_info": {
   "codemirror_mode": {
    "name": "ipython",
    "version": 3
   },
   "file_extension": ".py",
   "mimetype": "text/x-python",
   "name": "python",
   "nbconvert_exporter": "python",
   "pygments_lexer": "ipython3",
   "version": "3.10.8"
  }
 },
 "nbformat": 4,
 "nbformat_minor": 5
}
