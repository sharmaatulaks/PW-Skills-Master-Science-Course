{
 "cells": [
  {
   "cell_type": "markdown",
   "id": "89cf3cf6-688c-4601-b1a0-4ef4221df122",
   "metadata": {},
   "source": [
    "# <Center>    Assignment 5"
   ]
  },
  {
   "cell_type": "markdown",
   "id": "0e1b05d2-733e-4b21-a131-f946d694c244",
   "metadata": {},
   "source": [
    "Q1:- Create a python program to sort the given list of tuples based on integer value using a lambda function.\n",
    "\n",
    "[('Sachin Tendulkar', 34357), ('Ricky Ponting', 27483), ('Jack Kallis', 25534), ('Virat Kohli', 24936)]"
   ]
  },
  {
   "cell_type": "code",
   "execution_count": 2,
   "id": "86080e93-67de-4c80-9784-b4cbc4906c31",
   "metadata": {},
   "outputs": [
    {
     "name": "stdout",
     "output_type": "stream",
     "text": [
      "[('Virat Kohli', 24936), ('Jack Kallis', 25534), ('Ricky Ponting', 27483), ('Sachin Tendulkar', 34357)]\n"
     ]
    }
   ],
   "source": [
    "# python program to sort tuples using lambda function\n",
    "\n",
    "data = [('Sachin Tendulkar', 34357), ('Ricky Ponting', 27483), ('Jack Kallis', 25534), ('Virat Kohli', 24936)]\n",
    "\n",
    "sorted_data = sorted(data, key=lambda x: x[1])\n",
    "\n",
    "print(sorted_data)\n"
   ]
  },
  {
   "cell_type": "markdown",
   "id": "9a1889df-8ad1-4e44-989a-8205e7d30240",
   "metadata": {},
   "source": [
    " "
   ]
  },
  {
   "cell_type": "markdown",
   "id": "c95586c0-2c3b-4cc2-9b15-b46431f1bfeb",
   "metadata": {},
   "source": [
    "Q2:- Write a Python Program to find the squares of all the numbers in the given list of integers using lambda and map functions.\n",
    "\n",
    "[1, 2, 3, 4, 5, 6, 7, 8, 9, 10]"
   ]
  },
  {
   "cell_type": "code",
   "execution_count": 4,
   "id": "dbe871d5-589d-4168-ad5b-718dd12f172f",
   "metadata": {},
   "outputs": [
    {
     "name": "stdout",
     "output_type": "stream",
     "text": [
      "[1, 4, 9, 16, 25, 36, 49, 64, 81, 100]\n"
     ]
    }
   ],
   "source": [
    "# python program to find squares\n",
    "l1=[1, 2, 3, 4, 5, 6, 7, 8, 9, 10]\n",
    "l2=list(map(lambda x: x**2,l1))\n",
    "print(l2)"
   ]
  },
  {
   "cell_type": "markdown",
   "id": "723c7e3c-eb26-43eb-883f-0cd2ab4c3fbd",
   "metadata": {},
   "source": [
    " \n",
    " \n",
    " "
   ]
  },
  {
   "cell_type": "markdown",
   "id": "e6c6c6d7-07fc-4946-8f92-5ca4223b9dec",
   "metadata": {},
   "source": [
    " "
   ]
  },
  {
   "cell_type": "markdown",
   "id": "72eebaf0-cee2-4536-84f4-1bc67bc12af0",
   "metadata": {},
   "source": [
    "Q3. Write a python program to convert the given list of integers into a tuple of strings. Use map and lambda functions.\n",
    "\n",
    "Given String: [1, 2, 3, 4, 5, 6, 7, 8, 9, 10]\n",
    "\n",
    "Expected output: ('1', '2', '3', '4', '5', '6', '7', '8', '9', '10')"
   ]
  },
  {
   "cell_type": "code",
   "execution_count": 11,
   "id": "8b3e86bd-ffee-47da-be5d-10a024b418ba",
   "metadata": {},
   "outputs": [
    {
     "name": "stdout",
     "output_type": "stream",
     "text": [
      "('1', '2', '3', '4', '5', '6', '7', '8', '9', '10')\n"
     ]
    }
   ],
   "source": [
    "#Program to convert list of integers into tuples of strings\n",
    "\n",
    "l1=[1, 2, 3, 4, 5, 6, 7, 8, 9, 10]\n",
    "\n",
    "l2=tuple(list(map(lambda x: str(x),l1)))\n",
    "print(l2)"
   ]
  },
  {
   "cell_type": "markdown",
   "id": "c76e0430-5c51-4462-b3d6-a07f7b16297d",
   "metadata": {},
   "source": [
    " \n",
    " "
   ]
  },
  {
   "cell_type": "markdown",
   "id": "635e9e5c-be3f-464a-ad56-d6fc36f263af",
   "metadata": {},
   "source": [
    " "
   ]
  },
  {
   "cell_type": "code",
   "execution_count": null,
   "id": "c6fb244b-f485-4aa3-86a2-bca5db0349f1",
   "metadata": {},
   "outputs": [],
   "source": [
    "Q4:- Write a python program using reduce function to compute the product of a list containing numbers from 1 to 25."
   ]
  },
  {
   "cell_type": "code",
   "execution_count": 23,
   "id": "a3efbc68-f3d2-4776-8b8d-a4c5abef5b8f",
   "metadata": {},
   "outputs": [
    {
     "name": "stdout",
     "output_type": "stream",
     "text": [
      "15511210043330985984000000\n"
     ]
    }
   ],
   "source": [
    "l=[1, 2, 3, 4, 5, 6, 7, 8, 9, 10, 11, 12, 13, 14, 15, 16, 17, 18, 19, 20, 21, 22, 23, 24, 25]\n",
    "from functools import reduce\n",
    "\n",
    "print(reduce(lambda x,y: x*y,l))\n"
   ]
  },
  {
   "cell_type": "markdown",
   "id": "cbc25fe4-5ece-4f80-82a0-044c3c37692b",
   "metadata": {},
   "source": [
    " "
   ]
  },
  {
   "cell_type": "markdown",
   "id": "24113a40-71f0-4bb0-9fac-3cc8505835be",
   "metadata": {},
   "source": [
    " "
   ]
  },
  {
   "cell_type": "markdown",
   "id": "931fd945-e11b-470b-a84f-cf129cb92af1",
   "metadata": {},
   "source": [
    "Q5. Write a python program to filter the numbers in a given list that are divisible by 2 and 3 using the filter function.\n",
    "\n",
    "[2, 3, 6, 9, 27, 60, 90, 120, 55, 46]"
   ]
  },
  {
   "cell_type": "code",
   "execution_count": 27,
   "id": "ed5bca13-e06b-4f24-8438-6edde38293bd",
   "metadata": {},
   "outputs": [
    {
     "name": "stdout",
     "output_type": "stream",
     "text": [
      "[6, 60, 90, 120]\n"
     ]
    }
   ],
   "source": [
    "# program to filter nos divisible by 2 and 3\n",
    "\n",
    "li=[2, 3, 6, 9, 27, 60, 90, 120, 55, 46]\n",
    "\n",
    "print(list(filter(lambda x: x%2==0 and x%3==0 , li)))"
   ]
  },
  {
   "cell_type": "markdown",
   "id": "82e47327-91ac-43d9-953f-6874e9041b42",
   "metadata": {},
   "source": [
    " "
   ]
  },
  {
   "cell_type": "markdown",
   "id": "2132b282-9a5e-43d8-85d1-0f73cefb3d41",
   "metadata": {},
   "source": [
    " "
   ]
  },
  {
   "cell_type": "markdown",
   "id": "2ca8cb26-14aa-4635-8d5a-932798eda068",
   "metadata": {},
   "source": [
    "Q6. Write a python program to find palindromes in the given list of strings using lambda and filter function.\n",
    "\n",
    "['python', 'php', 'aba', 'radar', 'level']"
   ]
  },
  {
   "cell_type": "code",
   "execution_count": 28,
   "id": "88ab9e8f-4b6a-4e1c-80d7-fb5548bcb80c",
   "metadata": {},
   "outputs": [
    {
     "name": "stdout",
     "output_type": "stream",
     "text": [
      "['php', 'aba', 'radar', 'level']\n"
     ]
    }
   ],
   "source": [
    "# program to find palindromes in the given list of strings\n",
    "\n",
    "Str=['python', 'php', 'aba', 'radar', 'level']\n",
    "\n",
    "print(list(filter(lambda s: s==s[::-1],Str)))\n",
    "\n"
   ]
  },
  {
   "cell_type": "markdown",
   "id": "7a574a72-8f9c-41bc-8d99-a68b7fe80678",
   "metadata": {},
   "source": [
    "<center> end of Assignment"
   ]
  },
  {
   "cell_type": "code",
   "execution_count": null,
   "id": "e6aa2b06-bf02-4016-85a7-c42db8a6af86",
   "metadata": {},
   "outputs": [],
   "source": []
  }
 ],
 "metadata": {
  "kernelspec": {
   "display_name": "Python 3 (ipykernel)",
   "language": "python",
   "name": "python3"
  },
  "language_info": {
   "codemirror_mode": {
    "name": "ipython",
    "version": 3
   },
   "file_extension": ".py",
   "mimetype": "text/x-python",
   "name": "python",
   "nbconvert_exporter": "python",
   "pygments_lexer": "ipython3",
   "version": "3.10.8"
  }
 },
 "nbformat": 4,
 "nbformat_minor": 5
}
