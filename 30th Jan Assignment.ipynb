{
 "cells": [
  {
   "cell_type": "markdown",
   "id": "0882f039-3bfa-4b7a-95b1-526d081a20b8",
   "metadata": {},
   "source": [
    "## <Center> Assignment 2 of 30th Jan"
   ]
  },
  {
   "cell_type": "markdown",
   "id": "af64ccfb-6856-4c99-aba5-63dd5b9810ec",
   "metadata": {},
   "source": [
    "Question 1"
   ]
  },
  {
   "cell_type": "code",
   "execution_count": 18,
   "id": "c210d251-9a50-4a94-b3a4-28c72e05ac3b",
   "metadata": {},
   "outputs": [
    {
     "name": "stdin",
     "output_type": "stream",
     "text": [
      "Enter your percentage 81\n"
     ]
    },
    {
     "name": "stdout",
     "output_type": "stream",
     "text": [
      "your grade is B\n"
     ]
    }
   ],
   "source": [
    "#Write a program to accept percentage from the user and display the grade according to the following criteria:\n",
    "\n",
    "# input percentage\n",
    "per=int(input(\"Enter your percentage\"))\n",
    "if(per>100):\n",
    "    print(\"Percentage can be range between 0 to 100%\")\n",
    "elif per>90:\n",
    "          print(\"Your grade is A\")\n",
    "elif per>80 and per<=90:\n",
    "          print(\"your grade is B\")\n",
    "elif per>=60 and per<=80:\n",
    "          print(\"your grade is C\")\n",
    "else:\n",
    "          print(\"You got D grade\")\n",
    "          "
   ]
  },
  {
   "cell_type": "markdown",
   "id": "884c1f77-195b-4cd1-8c4b-6dae6327c40c",
   "metadata": {},
   "source": [
    "Question 2:- "
   ]
  },
  {
   "cell_type": "code",
   "execution_count": 21,
   "id": "a9f3e623-c363-404c-a3e9-4d5a17d161e9",
   "metadata": {},
   "outputs": [
    {
     "name": "stdin",
     "output_type": "stream",
     "text": [
      "Enter Cost of Your Bike :  150000\n"
     ]
    },
    {
     "name": "stdout",
     "output_type": "stream",
     "text": [
      "Tax of your bike is:- 22500.0\n"
     ]
    }
   ],
   "source": [
    "\"\"\"Write a program to accept the cost price of a bike and display\n",
    "the road tax to be paid according to the following criteria \"\"\"\n",
    "\n",
    "# Input the cost of bike\n",
    "cost_bike=int(input(\"Enter Cost of Your Bike : \"))\n",
    "Tax=0\n",
    "\n",
    "if cost_bike>100000:\n",
    "    Tax=cost_bike*.15\n",
    "    print(f\"Tax of your bike is:- {Tax}\")\n",
    "elif cost_bike>50000 and cost_bike<=100000:\n",
    "    Tax=cost_bike*.10\n",
    "    print(f\"Tax of your bike is:- {Tax}\")\n",
    "else:\n",
    "    Tax=cost_bike*.05\n",
    "    print(f\"Tax of your bike is:- {Tax}\")\n",
    "\n",
    "    \n"
   ]
  },
  {
   "cell_type": "markdown",
   "id": "863d7326-f84c-4639-824b-7a34ac1b60a0",
   "metadata": {},
   "source": [
    "Question 3:- "
   ]
  },
  {
   "cell_type": "code",
   "execution_count": 27,
   "id": "1608b4f4-0eeb-452a-b1d0-8818d131e85b",
   "metadata": {},
   "outputs": [
    {
     "name": "stdin",
     "output_type": "stream",
     "text": [
      "Enter City from Delhi, Agra and Jaipur :- Jaipur\n"
     ]
    },
    {
     "name": "stdout",
     "output_type": "stream",
     "text": [
      "Monumnet in Jaipur :- Jal Mahal\n"
     ]
    }
   ],
   "source": [
    "#accept any city from the user and display monuments of that city\n",
    "\n",
    "City_name= input(\"Enter City from Delhi, Agra and Jaipur :-\")\n",
    " \n",
    "if City_name==\"Delhi\":\n",
    "    print(f\"Monumnet in {City_name} :- Red Fort\")\n",
    "elif City_name==\"Agra\":\n",
    "    print(f\"Monumnet in {City_name} :- Taj Mahal\")\n",
    "elif City_name==\"Jaipur\":\n",
    "    print(f\"Monumnet in {City_name} :- Jal Mahal\")\n"
   ]
  },
  {
   "cell_type": "markdown",
   "id": "cea39243-cab6-4355-99b1-384d2e57cf8f",
   "metadata": {},
   "source": [
    "Question 4"
   ]
  },
  {
   "cell_type": "code",
   "execution_count": 32,
   "id": "b6887164-9429-45c8-8cce-4bf692febf20",
   "metadata": {},
   "outputs": [
    {
     "name": "stdin",
     "output_type": "stream",
     "text": [
      "enter a number 300\n"
     ]
    },
    {
     "name": "stdout",
     "output_type": "stream",
     "text": [
      "The Number divide by 3 by 4 times before becoming less than 10\n"
     ]
    }
   ],
   "source": [
    "\"\"\"check how many times a given number can be divided by 3\n",
    "before it is less than or equal to 10\"\"\"\n",
    "\n",
    "num=int(input(\"enter a number\"))\n",
    "no_of_times=0\n",
    "\n",
    "while num>10:\n",
    "    num=num/3\n",
    "    no_of_times+=1\n",
    "\n",
    "print(f\"The Number divide by 3 by {no_of_times} times before becoming less than 10\")\n",
    "    \n",
    "    "
   ]
  },
  {
   "cell_type": "markdown",
   "id": "cd61e16c-2985-4ce9-a055-0552542b1549",
   "metadata": {},
   "source": [
    "Question 5"
   ]
  },
  {
   "cell_type": "code",
   "execution_count": 42,
   "id": "8ff0ce5b-7c41-4b54-9ec2-bd2b1ceddeaf",
   "metadata": {},
   "outputs": [
    {
     "name": "stdout",
     "output_type": "stream",
     "text": [
      "1\n",
      "2\n",
      "3\n",
      "4\n",
      "5\n",
      "6\n",
      "7\n",
      "8\n",
      "9\n",
      "10\n"
     ]
    },
    {
     "data": {
      "text/plain": [
       "\"In this example, the while loop will run as long as\\nthe value of counter is less than or equal to 10.\\nOn each iteration of the loop, the value of counter is printed,\\nand then incremented by 1.\\nThe loop will exit when the value of counter becomes greater than 10.\\nThe while loop is useful when you don't know in advance how many times\\nyou need to loop, and you want to keep looping until a certain condition is met.\\nFor example, you can use a while loop to read data from a file until the end of the file is reached,\\nor to keep asking the user for input until a valid response is given.\""
      ]
     },
     "execution_count": 42,
     "metadata": {},
     "output_type": "execute_result"
    }
   ],
   "source": [
    "#Why and when to use while loop in pythongive a detailed description with example\n",
    "\n",
    "\"\"\"A while loop in Python is used to repeatedly execute a block of code\n",
    "as long as a certain condition is met.\n",
    "The loop will keep running as long as the condition is True,\n",
    "and will exit when the condition becomes False.\"\"\"\n",
    "\n",
    "\"\"\"Here's the general syntax for a while loop in Python:\n",
    "while condition:\n",
    "Code to be executed\"\"\"\n",
    "\n",
    "#Here's an example that demonstrates the use of a while loop:\n",
    "\n",
    "# Print the numbers from 1 to 10\n",
    "count = 1\n",
    "\n",
    "while count <= 10:\n",
    "    print(count)\n",
    "    count += 1\n",
    "\n",
    "    \n",
    "    \n",
    "\"\"\"In this example, the while loop will run as long as\n",
    "the value of counter is less than or equal to 10.\n",
    "On each iteration of the loop, the value of counter is printed,\n",
    "and then incremented by 1.\n",
    "The loop will exit when the value of counter becomes greater than 10.\n",
    "The while loop is useful when you don't know in advance how many times\n",
    "you need to loop, and you want to keep looping until a certain condition is met.\n",
    "For example, you can use a while loop to read data from a file until the end of the file is reached,\n",
    "or to keep asking the user for input until a valid response is given.\"\"\""
   ]
  },
  {
   "cell_type": "markdown",
   "id": "65bd9bed-07da-4c1f-9738-bda2c5da27c9",
   "metadata": {},
   "source": [
    "Question 6"
   ]
  },
  {
   "cell_type": "code",
   "execution_count": null,
   "id": "246de4ab-3896-46d2-b7bc-36b520e34418",
   "metadata": {},
   "outputs": [],
   "source": []
  },
  {
   "cell_type": "code",
   "execution_count": null,
   "id": "e3b69e29-6e6e-46f2-90fe-8e53491a0e7c",
   "metadata": {},
   "outputs": [],
   "source": []
  },
  {
   "cell_type": "code",
   "execution_count": 48,
   "id": "49b8d620-440b-47be-a015-27e61fc4bce1",
   "metadata": {},
   "outputs": [
    {
     "name": "stdout",
     "output_type": "stream",
     "text": [
      "Pattern 1\n",
      "*\n",
      "**\n",
      "***\n",
      "****\n",
      "*****\n",
      "----------------------------------------------------------------\n",
      "Pattern 2\n",
      "        * \n",
      "      * * \n",
      "    * * * \n",
      "  * * * * \n",
      "* * * * * \n",
      "----------------------------------------------------------------\n",
      "Pattern 3\n",
      "* * * * *  \n",
      "* * * *  \n",
      "* * *  \n",
      "* *  \n",
      "*  \n",
      " \n"
     ]
    }
   ],
   "source": [
    "#Use nested while loop to print 3 different pattern\n",
    "\n",
    "#pattern 1 \n",
    "print(\"Pattern 1\")\n",
    "#initialize variables \n",
    "i=1\n",
    "j=1\n",
    "#while loop\n",
    "while i<6:\n",
    "    #nested while\n",
    "    while j<=i:\n",
    "        #printed j without space\n",
    "        print(\"*\", end=\"\")\n",
    "        #increment j by 1\n",
    "        j+=1\n",
    "    #print new line\n",
    "    print()\n",
    "    #reset value of j\n",
    "    j=1\n",
    "    #increment value of i by 1\n",
    "    i+=1\n",
    "\n",
    "print(\"----------------------------------------------------------------\")\n",
    "print(\"Pattern 2\")\n",
    "#initialize variables \n",
    "rows = 5\n",
    "k = 2 * rows - 2  # It is used for number of spaces  \n",
    "for i in range(0, rows):  \n",
    "    for j in range(0, k):  \n",
    "        print(end=\" \")  \n",
    "    k = k - 2   # decrement k value after each iteration  \n",
    "    for j in range(0, i + 1):  \n",
    "        print(\"* \", end=\"\")  # printing star  \n",
    "    print(\"\")\n",
    "\n",
    "print(\"----------------------------------------------------------------\")\n",
    "print(\"Pattern 3\")\n",
    "#initialize variables \n",
    "rows = 5  \n",
    "  \n",
    "# the outer loop is executing in reversed order  \n",
    "for i in range(rows + 1, 0, -1):    \n",
    "    for j in range(0, i - 1):  \n",
    "        print(\"*\", end=' ')  \n",
    "    print(\" \")  "
   ]
  },
  {
   "cell_type": "markdown",
   "id": "f2f557c9-0ebf-43da-b300-bf4ac5fc495e",
   "metadata": {},
   "source": [
    "Question 7\n"
   ]
  },
  {
   "cell_type": "code",
   "execution_count": 50,
   "id": "a3b64dbb-86c7-4773-b349-dd6da374bd5a",
   "metadata": {},
   "outputs": [
    {
     "name": "stdout",
     "output_type": "stream",
     "text": [
      "10\n",
      "9\n",
      "8\n",
      "7\n",
      "6\n",
      "5\n",
      "4\n",
      "3\n",
      "2\n",
      "1\n"
     ]
    }
   ],
   "source": [
    "#reverse a while loop to display the numbers from 10 to 1\n",
    "\n",
    "num=10\n",
    "while num>=1:\n",
    "    print(num)\n",
    "    num-=1"
   ]
  },
  {
   "cell_type": "markdown",
   "id": "c06ae5db-6dc5-46ed-8349-71a3b75d60fa",
   "metadata": {},
   "source": [
    "Question 8: Repeat Question ans same as Question 7"
   ]
  },
  {
   "cell_type": "markdown",
   "id": "04531ed3-b280-4868-8f13-229c7e27b9fc",
   "metadata": {},
   "source": [
    "## <Center> End of Assignment"
   ]
  },
  {
   "cell_type": "code",
   "execution_count": null,
   "id": "2a517636-7210-41bc-87f3-e504242d0167",
   "metadata": {},
   "outputs": [],
   "source": []
  }
 ],
 "metadata": {
  "kernelspec": {
   "display_name": "Python 3 (ipykernel)",
   "language": "python",
   "name": "python3"
  },
  "language_info": {
   "codemirror_mode": {
    "name": "ipython",
    "version": 3
   },
   "file_extension": ".py",
   "mimetype": "text/x-python",
   "name": "python",
   "nbconvert_exporter": "python",
   "pygments_lexer": "ipython3",
   "version": "3.10.8"
  }
 },
 "nbformat": 4,
 "nbformat_minor": 5
}
