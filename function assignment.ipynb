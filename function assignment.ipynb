{
 "cells": [
  {
   "cell_type": "markdown",
   "id": "52e60a4b-4f95-4a9e-a226-8f600ba59566",
   "metadata": {},
   "source": [
    "# <center> Function Assignmnet"
   ]
  },
  {
   "cell_type": "markdown",
   "id": "6337466d-84bb-4d61-8179-1f0579a09a2b",
   "metadata": {},
   "source": [
    "Q1:- which keyword is used to create a function? Create a function to return the list of odd numbers in the range of 1 to 25?\n",
    "\n",
    "Ans 1:- def keyword is used to define a function."
   ]
  },
  {
   "cell_type": "code",
   "execution_count": 11,
   "id": "eb629969-c2c9-410f-862b-da78a3ccc8ba",
   "metadata": {},
   "outputs": [],
   "source": [
    "# function to return the odd number\n",
    "\n",
    "def odd_num():\n",
    "    odd=[]\n",
    "    for i in range(1,25):\n",
    "        if i%2!=0:\n",
    "            odd.append(i)\n",
    "    return odd\n",
    "        "
   ]
  },
  {
   "cell_type": "code",
   "execution_count": 12,
   "id": "775b66bd-dd8d-4db8-9059-dac55d46c665",
   "metadata": {},
   "outputs": [
    {
     "data": {
      "text/plain": [
       "[1, 3, 5, 7, 9, 11, 13, 15, 17, 19, 21, 23]"
      ]
     },
     "execution_count": 12,
     "metadata": {},
     "output_type": "execute_result"
    }
   ],
   "source": [
    "odd_num()"
   ]
  },
  {
   "cell_type": "markdown",
   "id": "1904f354-4194-48a1-970c-8ce33b5aef36",
   "metadata": {},
   "source": [
    " "
   ]
  },
  {
   "cell_type": "markdown",
   "id": "2e545e7f-4e3f-435f-a0f1-bd1e9457ae11",
   "metadata": {},
   "source": [
    " "
   ]
  },
  {
   "cell_type": "markdown",
   "id": "7a1cc137-a1a9-453e-8549-cc135d751e17",
   "metadata": {},
   "source": [
    "Q2:- Why *args and **Kwargs is used in some function? Create a function each for *args and *kwargs to demonistrate their use?\n",
    "\n",
    "Ans2:- *args is the \"arbituary argument\" that is used when we are not sure how many non keyword arguments to be passed to the function, hence we can add a * before parameter name into the function definition. this will take arguments in the form of tuples.\n",
    "\n",
    "**kwargs is the \"Arbitrary Keyword Arguments\" that is used to variable length of Keywords arguments to the function. in this we use ** before the parameter name, The argument are passed as dictionary. and these "
   ]
  },
  {
   "cell_type": "code",
   "execution_count": 15,
   "id": "07ef2345-b9c7-4be7-9408-a87cb52a3bcd",
   "metadata": {},
   "outputs": [],
   "source": [
    "# function using *args \n",
    "\n",
    "def running_total(*args):\n",
    "    total=0\n",
    "    for i in args:\n",
    "        total+=i\n",
    "    return total"
   ]
  },
  {
   "cell_type": "code",
   "execution_count": 21,
   "id": "3f19709b-27c7-4d63-9119-f5ed4dcc8b28",
   "metadata": {},
   "outputs": [
    {
     "name": "stdout",
     "output_type": "stream",
     "text": [
      "189\n",
      "123\n"
     ]
    }
   ],
   "source": [
    "print(running_total(2,5,6,8,7,9,10,15,82,45))\n",
    "print(running_total(5,15,16,87))\n"
   ]
  },
  {
   "cell_type": "code",
   "execution_count": 23,
   "id": "68c04d45-a7b0-4c5b-a4cd-dab3938a5f61",
   "metadata": {},
   "outputs": [],
   "source": [
    "# function using **kwargs\n",
    "\n",
    "def data(**kwargs):\n",
    "    return kwargs   "
   ]
  },
  {
   "cell_type": "code",
   "execution_count": 26,
   "id": "28bd8866-5cdd-4c0f-97aa-3cbff3ad12e2",
   "metadata": {},
   "outputs": [
    {
     "data": {
      "text/plain": [
       "{'name': 'Atul', 'age': 23, 'sub': 'data science'}"
      ]
     },
     "execution_count": 26,
     "metadata": {},
     "output_type": "execute_result"
    }
   ],
   "source": [
    "data(name=\"Atul\",age=23,sub=\"data science\")"
   ]
  },
  {
   "cell_type": "markdown",
   "id": "600847fb-432c-4305-88f8-181f2525d2db",
   "metadata": {},
   "source": [
    " "
   ]
  },
  {
   "cell_type": "markdown",
   "id": "f54d95d6-5cab-44c0-8aa6-e0f901d9b8fc",
   "metadata": {},
   "source": [
    " "
   ]
  },
  {
   "cell_type": "markdown",
   "id": "fb7d1e55-3ef0-45cf-a591-a39e0ce14492",
   "metadata": {},
   "source": [
    "Q3:- what is an iterator in Python? name the method used to intialise the iterator object and the method used for iteration. Use these methods to print first five elements of the given list[2,4,6,8,10,12,14,16,18,20]\n",
    "\n",
    "Ans 3:- Iterators are object that iterate collections like lists, tuples, etc. Using an iterator method, we can loop through an object and return its elements.\n",
    "\n",
    "iter() method is used to intilaise the iterator object and next() method is used for iteration.\n",
    "\n"
   ]
  },
  {
   "cell_type": "code",
   "execution_count": 1,
   "id": "1dd607e8-2cca-4d06-a009-3faa52cbabeb",
   "metadata": {},
   "outputs": [
    {
     "name": "stdout",
     "output_type": "stream",
     "text": [
      "2\n",
      "4\n",
      "6\n",
      "8\n",
      "10\n"
     ]
    }
   ],
   "source": [
    "\n",
    "List_num=[2,4,6,8,10,12,14,16,18,20]\n",
    "\n",
    "iterator=iter(List_num)\n",
    "\n",
    "print(next(iterator))\n",
    "print(next(iterator))\n",
    "print(next(iterator))\n",
    "print(next(iterator))\n",
    "print(next(iterator))"
   ]
  },
  {
   "cell_type": "markdown",
   "id": "bc3a4c42-bf09-49aa-80cd-e54e45613b4a",
   "metadata": {},
   "source": [
    " "
   ]
  },
  {
   "cell_type": "markdown",
   "id": "e83822a4-e693-424d-b431-186b9c16b850",
   "metadata": {},
   "source": [
    "Q4:- what are a generator function in python? why yield keyword is used? give an example of a generator function.\n",
    "\n",
    "Ans 4:- Generator Function:- A generator function that returns an iterator that produces a sequence of values when iterated over. Generators are useful when we want to produce a large sequence of values, but we don't want to store all of them in memory at once. \n",
    "\n",
    "Yeild Keyword is used suspends a function’s execution and sends a value back to the caller, but retains enough state to enable the function to resume where it left off. When the function resumes, it continues execution immediately after the last yield run. This allows its code to produce a series of values over time, rather than computing them at once and sending them back like a list.\n",
    "\n"
   ]
  },
  {
   "cell_type": "code",
   "execution_count": 3,
   "id": "5d8fffb9-f30e-422c-9457-96b29455aa14",
   "metadata": {},
   "outputs": [],
   "source": [
    "# example of generator Functon\n",
    "\n",
    "def count_up_to(n):\n",
    "    i = 1\n",
    "    while i <= n:\n",
    "        yield i\n",
    "        i += 1\n"
   ]
  },
  {
   "cell_type": "code",
   "execution_count": 8,
   "id": "fc115ece-4f31-4973-bc3d-a9d2914794f6",
   "metadata": {},
   "outputs": [
    {
     "name": "stdout",
     "output_type": "stream",
     "text": [
      "1\n",
      "2\n",
      "3\n",
      "4\n",
      "5\n",
      "6\n",
      "7\n",
      "8\n",
      "9\n",
      "10\n"
     ]
    }
   ],
   "source": [
    "for i in count_up_to(10):\n",
    "    print(i)"
   ]
  },
  {
   "cell_type": "markdown",
   "id": "208f5140-9131-4603-a6a7-701641c7baf1",
   "metadata": {},
   "source": [
    " "
   ]
  },
  {
   "cell_type": "markdown",
   "id": "8c3557b2-2214-4103-90be-36beda2a58c0",
   "metadata": {},
   "source": [
    " "
   ]
  },
  {
   "cell_type": "markdown",
   "id": "779970eb-eb4c-45a8-b86d-5a1f482b10ca",
   "metadata": {},
   "source": [
    "Q 5:- Create a generator function for prime number less than 1000. use the next() method to print the first 20 prime nos.\n"
   ]
  },
  {
   "cell_type": "code",
   "execution_count": 26,
   "id": "62cb93d9-572b-44d3-b2dc-6b50aa8f15bc",
   "metadata": {},
   "outputs": [],
   "source": [
    "# Prime no programme:-\n",
    "\n",
    "def prime_no():\n",
    "    num=2\n",
    "    while num<=1000:\n",
    "        is_prime= True\n",
    "        for i in range (2,int(num/2)+1):\n",
    "            if num % i == 0:\n",
    "                is_prime=False\n",
    "                break                \n",
    "        if is_prime:\n",
    "            yield num\n",
    "        num+=1\n",
    "\n",
    "    "
   ]
  },
  {
   "cell_type": "code",
   "execution_count": 27,
   "id": "d45b2e79-f2a4-403e-af22-b8688270e4e0",
   "metadata": {},
   "outputs": [
    {
     "name": "stdout",
     "output_type": "stream",
     "text": [
      "2\n",
      "3\n",
      "5\n",
      "7\n",
      "11\n"
     ]
    }
   ],
   "source": [
    "iter = prime_no()\n",
    "for i in range(5):\n",
    "    print(next(iter))\n",
    "\n",
    "   "
   ]
  },
  {
   "cell_type": "markdown",
   "id": "6a45f358-c94a-4c5d-bcc7-2a71eedfe58e",
   "metadata": {},
   "source": [
    "<Center> End of Assignment"
   ]
  },
  {
   "cell_type": "code",
   "execution_count": null,
   "id": "25335fa1-244c-44b1-a032-cb93dceadb99",
   "metadata": {},
   "outputs": [],
   "source": []
  }
 ],
 "metadata": {
  "kernelspec": {
   "display_name": "Python 3 (ipykernel)",
   "language": "python",
   "name": "python3"
  },
  "language_info": {
   "codemirror_mode": {
    "name": "ipython",
    "version": 3
   },
   "file_extension": ".py",
   "mimetype": "text/x-python",
   "name": "python",
   "nbconvert_exporter": "python",
   "pygments_lexer": "ipython3",
   "version": "3.10.8"
  }
 },
 "nbformat": 4,
 "nbformat_minor": 5
}
