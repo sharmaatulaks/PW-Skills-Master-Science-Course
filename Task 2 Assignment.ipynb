{
 "cells": [
  {
   "cell_type": "markdown",
   "id": "ce955eda-5e0d-4da7-948b-072727dde39f",
   "metadata": {},
   "source": [
    "<center> Assignmnet Task 2 Python"
   ]
  },
  {
   "cell_type": "markdown",
   "id": "acd15a9f-a115-4a9e-ba66-e4dacfe0d46b",
   "metadata": {},
   "source": [
    "Q 1:- You are writing code for a company. The requirement of the company is that you create a python function that will check whether the password entered by the user is correct or not. The function should take the password as input and return the string “Valid Password” if the entered password follows the below-given password guidelines else it should return “Invalid Password”.\n",
    "Note: \n",
    "1. The Password should contain at least two uppercase letters and at least two lowercase letters.\n",
    "2. The Password should contain at least a number and three special characters.\n",
    "3. The length of the password should be 10 characters long."
   ]
  },
  {
   "cell_type": "code",
   "execution_count": 16,
   "id": "549634cb-e946-4383-a3ca-43916d2605b1",
   "metadata": {},
   "outputs": [],
   "source": [
    "# Program for checking password\n",
    "\n",
    "def check_password(password):\n",
    "    count_int=0\n",
    "    count_upper=0\n",
    "    count_lower=0\n",
    "    count_special=0\n",
    "    length = len(password)\n",
    "    status = False\n",
    "    if length>=10:\n",
    "            for i in password:\n",
    "                if i.isnumeric():\n",
    "                    count_int+=1\n",
    "                elif i.islower():\n",
    "                    count_lower+=1\n",
    "                elif i.isupper():\n",
    "                    count_upper+=1\n",
    "                elif i.isspace()==False:\n",
    "                    count_special+=1\n",
    "    else:\n",
    "        status=False\n",
    "    \n",
    "    if  count_int>0 and count_upper>1 and count_lower>1 and count_special>2:\n",
    "        status=True\n",
    "    \n",
    "    if status== True:\n",
    "        print(\"Valid Password\")\n",
    "    else:\n",
    "        print(\"Invalid password\")    \n",
    "    \n",
    "            "
   ]
  },
  {
   "cell_type": "code",
   "execution_count": 22,
   "id": "446ba7a2-f4f4-49a5-bb7c-3ef65b0dd465",
   "metadata": {},
   "outputs": [
    {
     "name": "stdout",
     "output_type": "stream",
     "text": [
      "Valid Password\n",
      "Invalid password\n"
     ]
    }
   ],
   "source": [
    "str=\"atul@123!@ABCD\"\n",
    "str1=\"abdABCD@@@\"\n",
    "check_password(str)\n",
    "check_password(str1)"
   ]
  },
  {
   "cell_type": "markdown",
   "id": "c4320798-bada-4b2e-9d1f-e450e0dd6742",
   "metadata": {},
   "source": [
    " "
   ]
  },
  {
   "cell_type": "markdown",
   "id": "3b1e5d79-9e39-4e27-bc03-df5661199bc8",
   "metadata": {},
   "source": [
    " "
   ]
  },
  {
   "cell_type": "markdown",
   "id": "e7a4bcef-161f-4350-9a8d-4a10f15cf224",
   "metadata": {},
   "source": [
    "Q2:-  Solve the below-given questions using at least one of the following:\n",
    "1. Lambda function\n",
    "2. Filter function\n",
    "3. Map function\n",
    "4. List Comprehension"
   ]
  },
  {
   "cell_type": "markdown",
   "id": "9b41c989-4342-4afb-b53d-31e51fcf3633",
   "metadata": {},
   "source": [
    "* Check if the string starts with a particular letter.\n",
    "* Check if the string is numeric.\n",
    "* Sort a list of tuples having fruit names and their quantity. [(\"mango\",99),(\"orange\",80), (\"grapes\", 1000)]\n",
    "* Find the squares of numbers from 1 to 10\n",
    "* Find the cube root of numbers from 1 to 10\n",
    "* Check if a given number is even\n",
    "* Filter odd numbers from the given list.\n",
    "[1,2,3,4,5,6,7,8,9,10]\n",
    "* Sort a list of integers into positive and negative integers lists.\n",
    "[1,2,3,4,5,6,-1,-2,-3,-4,-5,0]"
   ]
  },
  {
   "cell_type": "code",
   "execution_count": 9,
   "id": "a93000fe-0927-45e6-bc00-758e7a8dde6d",
   "metadata": {},
   "outputs": [
    {
     "name": "stdin",
     "output_type": "stream",
     "text": [
      "enter any string Atul\n"
     ]
    },
    {
     "data": {
      "text/plain": [
       "True"
      ]
     },
     "execution_count": 9,
     "metadata": {},
     "output_type": "execute_result"
    }
   ],
   "source": [
    "# program to check string start with a particular letter\n",
    "\n",
    "str = input(\"enter any string\")\n",
    "str= str.lower()\n",
    "result= lambda a: True if a.startswith(\"a\") else False\n",
    "\n",
    "result(str)"
   ]
  },
  {
   "cell_type": "code",
   "execution_count": 13,
   "id": "f651277f-e40c-42ca-a01a-37f8866fb117",
   "metadata": {},
   "outputs": [
    {
     "name": "stdin",
     "output_type": "stream",
     "text": [
      "enter any number 1478956\n"
     ]
    },
    {
     "data": {
      "text/plain": [
       "True"
      ]
     },
     "execution_count": 13,
     "metadata": {},
     "output_type": "execute_result"
    }
   ],
   "source": [
    "# program for checking string is numeric\n",
    "\n",
    "str1=input(\"enter any number\")\n",
    "\n",
    "num = lambda b: True if str1.isdigit() else False\n",
    "\n",
    "num(str1)\n"
   ]
  },
  {
   "cell_type": "code",
   "execution_count": 24,
   "id": "129cd6f7-6134-4610-ad47-53221b0a6634",
   "metadata": {},
   "outputs": [
    {
     "name": "stdout",
     "output_type": "stream",
     "text": [
      "[('grapes', 1000), ('mango', 99), ('orange', 80)]\n"
     ]
    }
   ],
   "source": [
    "# program to sort a list of tuples\n",
    "\n",
    "tup = [(\"mango\",99),(\"orange\",80), (\"grapes\", 1000)]\n",
    "\n",
    "sorted_tup=sorted(tup, key= lambda x: x[1],reverse=True)\n",
    "print(sorted_tup)"
   ]
  },
  {
   "cell_type": "code",
   "execution_count": 29,
   "id": "b4855d74-452b-49a0-aee2-fabb416c4ded",
   "metadata": {},
   "outputs": [
    {
     "name": "stdout",
     "output_type": "stream",
     "text": [
      "[1, 4, 9, 16, 25, 36, 49, 64, 81, 100]\n"
     ]
    }
   ],
   "source": [
    "#Find the squares of numbers from 1 to 10\n",
    "\n",
    "square_num=list(map(lambda x: x**2,range(1,11)))\n",
    "print(square_num)"
   ]
  },
  {
   "cell_type": "code",
   "execution_count": 32,
   "id": "1a0c700b-decc-440e-9000-1ef99273a074",
   "metadata": {},
   "outputs": [
    {
     "name": "stdout",
     "output_type": "stream",
     "text": [
      "[1.0, 1.2599210498948732, 1.4422495703074083, 1.5874010519681994, 1.7099759466766968, 1.8171205928321397, 1.912931182772389, 2.0, 2.080083823051904, 2.154434690031884]\n"
     ]
    }
   ],
   "source": [
    "# program for cube root of numbers from 1 to 10\n",
    "\n",
    "cube_root=[x**(1/3) for x in range(1,11)]\n",
    "print(cube_root)"
   ]
  },
  {
   "cell_type": "code",
   "execution_count": 38,
   "id": "42fcb220-5600-4d4c-b710-64213161a473",
   "metadata": {},
   "outputs": [],
   "source": [
    "# program to find a number is even\n",
    "\n",
    "even_or_not = lambda x: True if x%2== 0 else False\n"
   ]
  },
  {
   "cell_type": "code",
   "execution_count": 42,
   "id": "354bf83a-05b9-4254-8451-6699a4b1cd87",
   "metadata": {},
   "outputs": [
    {
     "name": "stdin",
     "output_type": "stream",
     "text": [
      "enter any no 11\n"
     ]
    },
    {
     "name": "stdout",
     "output_type": "stream",
     "text": [
      "Is its even no:- False \n"
     ]
    }
   ],
   "source": [
    "x= int(input(\"enter any no\"))\n",
    "print(f\"Is its even no:- {even_or_not(x)} \")"
   ]
  },
  {
   "cell_type": "code",
   "execution_count": 49,
   "id": "df3f05d6-179b-4ba6-a93e-02c0cabc38f6",
   "metadata": {},
   "outputs": [
    {
     "name": "stdout",
     "output_type": "stream",
     "text": [
      "[1, 3, 5, 7, 9]\n"
     ]
    }
   ],
   "source": [
    "# Program to filter odd numbers from the given list\n",
    "\n",
    "numbers = [1,2,3,4,5,6,7,8,9,10]\n",
    "odd_list=list(filter(lambda x: x%2!=0,numbers))\n",
    "print(odd_list)"
   ]
  },
  {
   "cell_type": "code",
   "execution_count": 53,
   "id": "f256cc94-00fb-4c7b-b48d-fcb6413a442a",
   "metadata": {},
   "outputs": [
    {
     "name": "stdout",
     "output_type": "stream",
     "text": [
      "positive list is:- [1, 2, 3, 4, 5, 6, 0]\n",
      " negative numbers list is :- [-1, -2, -3, -4, -5]\n"
     ]
    }
   ],
   "source": [
    "#Sort a list of integers into positive and negative integers lists\n",
    "\n",
    "numbers = [1,2,3,4,5,6,-1,-2,-3,-4,-5,0]\n",
    "\n",
    "pos_list=[x for x in numbers if x>=0]\n",
    "neg_list=[x for x in numbers if x<0]\n",
    "\n",
    "print(f\"positive list is:- {pos_list}\")\n",
    "print(f\" negative numbers list is :- {neg_list}\")"
   ]
  },
  {
   "cell_type": "markdown",
   "id": "c79595dd-4a55-4dff-9399-013bbf695e6d",
   "metadata": {},
   "source": [
    "<center> end of Assignment"
   ]
  },
  {
   "cell_type": "code",
   "execution_count": null,
   "id": "81d53423-98f1-400b-a87b-cfc70da4ca3d",
   "metadata": {},
   "outputs": [],
   "source": []
  }
 ],
 "metadata": {
  "kernelspec": {
   "display_name": "Python 3 (ipykernel)",
   "language": "python",
   "name": "python3"
  },
  "language_info": {
   "codemirror_mode": {
    "name": "ipython",
    "version": 3
   },
   "file_extension": ".py",
   "mimetype": "text/x-python",
   "name": "python",
   "nbconvert_exporter": "python",
   "pygments_lexer": "ipython3",
   "version": "3.10.8"
  }
 },
 "nbformat": 4,
 "nbformat_minor": 5
}
