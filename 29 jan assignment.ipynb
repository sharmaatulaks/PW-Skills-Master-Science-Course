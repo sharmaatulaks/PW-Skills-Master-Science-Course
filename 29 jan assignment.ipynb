{
 "cells": [
  {
   "cell_type": "markdown",
   "id": "1ba59d6a-a6f2-4961-9947-d53f2669772a",
   "metadata": {},
   "source": [
    "## <center>29 th January Assignmnet\n"
   ]
  },
  {
   "cell_type": "markdown",
   "id": "69415b28-29c2-4b49-91fb-014aa2dc6a92",
   "metadata": {},
   "source": [
    "Q 1:- Who developed Python Programming Langauage?<br> \n",
    "Ans 1:- Guido van Rossum developed the Python Programming Language."
   ]
  },
  {
   "cell_type": "markdown",
   "id": "53018dcd-d39f-4bc2-b582-cd12782bc97f",
   "metadata": {},
   "source": [
    "Q2:- Which Type of Programming does python Support?<br>\n",
    "Ans 2:- Python is an interpreted programming language, supporting object-oriented, structured, and functional programming."
   ]
  },
  {
   "cell_type": "markdown",
   "id": "c48922eb-b8a6-43d6-a248-3318491bd491",
   "metadata": {},
   "source": [
    "Q3:- Is Python case sensitive when dealing with identifiers?<br>\n",
    "Ans 3:- Yes\n"
   ]
  },
  {
   "cell_type": "markdown",
   "id": "7cb5deb5-377b-4658-8337-97e6ff98fd67",
   "metadata": {},
   "source": [
    "Q4:- What is the correct extension of the Python file?<br>\n",
    "Ans 4:- .py is correct extension the python file"
   ]
  },
  {
   "cell_type": "markdown",
   "id": "c9e3cd5a-d04c-4cdb-9f8a-e8d70c674037",
   "metadata": {},
   "source": [
    "Q5:- Is Python Code Compiled or interpreted?<br>\n",
    "Ans 5:- Python is an Interprated Langauage.\n"
   ]
  },
  {
   "cell_type": "markdown",
   "id": "5fe9c2ad-a252-4d2a-879d-3fdbf72b8899",
   "metadata": {},
   "source": [
    "Q6:- Name a few block of the code used to define in Python Language?<br>\n",
    "Ans 6:- Indentation is used to define the block of code in Python."
   ]
  },
  {
   "cell_type": "markdown",
   "id": "0f8eda93-60b1-49d9-9fba-fbf66d3d06c4",
   "metadata": {},
   "source": [
    "Q7:- State a Character used to give Single line comments in Python?<br>\n",
    "Ans 7:- # character is used to give single line comment in python."
   ]
  },
  {
   "cell_type": "markdown",
   "id": "327b8a19-9a17-44de-a5f5-f277f60fa6ee",
   "metadata": {},
   "source": [
    "Q8:- Mention Function which can help us to find the version of python that we are currently working on?<br>\n",
    "Ans 8:- First we have import sys and then Sys.version function tells us the current version of python we are working on."
   ]
  },
  {
   "cell_type": "code",
   "execution_count": 14,
   "id": "e504ff1e-1f03-46e1-b092-b4dce8dc3b08",
   "metadata": {},
   "outputs": [
    {
     "data": {
      "text/plain": [
       "'3.10.8 | packaged by conda-forge | (main, Nov 22 2022, 08:26:04) [GCC 10.4.0]'"
      ]
     },
     "execution_count": 14,
     "metadata": {},
     "output_type": "execute_result"
    }
   ],
   "source": [
    "import sys\n",
    "sys.version"
   ]
  },
  {
   "cell_type": "markdown",
   "id": "b558465b-9229-4fef-8db8-ac4f05248d37",
   "metadata": {},
   "source": [
    "Q9:- Python supports the creation of anonymous functions at runtime, using a construct called?<br>\n",
    "Ans:- Lamda"
   ]
  },
  {
   "cell_type": "markdown",
   "id": "140a96c3-b2d7-4356-b0f3-d81cc3b6c8ef",
   "metadata": {},
   "source": [
    "Q10:- What does pip stand for python?<br>\n",
    "Ans 10:- Pip Installs Packages."
   ]
  },
  {
   "cell_type": "markdown",
   "id": "85adb310-cd94-4142-b3b2-bc1d41bd4882",
   "metadata": {},
   "source": [
    "Q11:- Mention a few built-in functions in python?<br>\n",
    "Ans 11:-  some of build in Function in python:-<br>\n",
    "* Print()<br>\n",
    "* input()<br>\n",
    "* range()<br>"
   ]
  },
  {
   "cell_type": "markdown",
   "id": "547a0f97-d0fc-4c38-8f64-0ee0a3c67bf1",
   "metadata": {},
   "source": [
    "Q12:- What is the maximum possible length of an identifier in python?<br>\n",
    "Ans 12:- 79 Characters."
   ]
  },
  {
   "cell_type": "markdown",
   "id": "0b4d2551-0b24-421a-b051-ff1d24385fc2",
   "metadata": {},
   "source": [
    "Q13:- What are the benefits of using Python?<br>\n",
    "Ans 13:- some of the benefits of python:-<br>\n",
    " * Simple to Use and Understand\n",
    "\n",
    " * Free and Open-Source<br>\n",
    "\n",
    " * Productivity has Increased<br>\n",
    "\n",
    " * Interpreted Language\n",
    "\n",
    " * Extensive library\n",
    "\n",
    " * Dynamically Typed\n",
    "\n",
    " * Portability\n",
    "\n",
    " * Supportive community"
   ]
  },
  {
   "cell_type": "markdown",
   "id": "e7d33464-e43c-45b5-84ea-c90c46175ca7",
   "metadata": {},
   "source": [
    "Q14:- How is memory managed in Python?<br>\n",
    "Ans 14:- Python uses dynamic memory management, which means the Python memory manager automatically handles memory allocation and deallocation. The memory manager uses a reference counting system to track the number of references to objects in memory, and frees the memory occupied by an object when its reference count reaches zero. Additionally, Python has a garbage collector that periodically frees up memory occupied by objects that are no longer being used. This ensures that Python programs are able to efficiently use memory without the need for manual memory management."
   ]
  },
  {
   "cell_type": "markdown",
   "id": "32f9869f-9cd4-464a-a294-8dbb81be3e19",
   "metadata": {},
   "source": [
    "Q15:- How to install Python on windows and set path variables?<br>\n",
    "Ans 15:- Here's how you can install Python on Windows and set the path variables:\n",
    "* Download the latest version of Python from the official website (https://www.python.org/downloads/).<br>\n",
    "* Run the installer and follow the instructions to install Python on your system.\n",
    "* Open the \"Environment Variables\" dialog by typing \"Environment Variables\" into the Windows search bar and clicking on \"Edit the system environment variables.\"\n",
    "* Under \"System Variables,\" scroll down and find the \"Path\" variable, then click \"Edit.\"\n",
    "* Click \"New\" and add the path to your Python installation. For example, if you installed Python in the default location, the path would be \"C:\\PythonXX,\" where \"XX\" is the version number.\n",
    "* Click \"OK\" to close all the dialog boxes.\n",
    "* Open a new command prompt and type \"python\" to confirm that the installation was successful and that the path variables are set correctly.<br>\n",
    "\n",
    "** Note: It may need to restart any open command prompts for the changes to take effect."
   ]
  },
  {
   "cell_type": "markdown",
   "id": "872f84ce-94f8-487e-92fc-8e57515fbb17",
   "metadata": {},
   "source": [
    "Q16:- Is indentation required in python?<br>\n",
    "Ans 16:- Yes, indentation is required in Python. Indentation is used to indicate the block of code associated with control structures such as loops and conditional statements. The indentation level determines the scope of the code block, and a consistent indentation style makes the code easier to read and understand. In Python, the indentation level is defined by one or more spaces at the beginning of a line. The recommended indentation level is 4 spaces, but some developers prefer 2 spaces or use tabs instead of spaces. It's important to be consistent within a single project, and most code editors can automatically handle indentation for you."
   ]
  },
  {
   "cell_type": "markdown",
   "id": "992e1d4b-7f24-4019-b476-aa96aa813898",
   "metadata": {},
   "source": [
    "<Center>## End of Assignment"
   ]
  },
  {
   "cell_type": "code",
   "execution_count": null,
   "id": "7d1bf541-adfc-4d47-822e-bdffdf456651",
   "metadata": {},
   "outputs": [],
   "source": []
  }
 ],
 "metadata": {
  "kernelspec": {
   "display_name": "Python 3 (ipykernel)",
   "language": "python",
   "name": "python3"
  },
  "language_info": {
   "codemirror_mode": {
    "name": "ipython",
    "version": 3
   },
   "file_extension": ".py",
   "mimetype": "text/x-python",
   "name": "python",
   "nbconvert_exporter": "python",
   "pygments_lexer": "ipython3",
   "version": "3.10.8"
  }
 },
 "nbformat": 4,
 "nbformat_minor": 5
}
